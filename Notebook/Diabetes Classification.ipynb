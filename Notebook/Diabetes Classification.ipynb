{
  "cells": [
    {
      "cell_type": "markdown",
      "metadata": {
        "id": "CZK0VGVYnM7p"
      },
      "source": [
        "### Data Installation"
      ]
    },
    {
      "cell_type": "code",
      "execution_count": 1,
      "metadata": {
        "colab": {
          "base_uri": "https://localhost:8080/"
        },
        "id": "IZa-s_kXT5N7",
        "outputId": "002d97b5-67a8-4305-9119-185bddd63262"
      },
      "outputs": [],
      "source": [
        "#!pip install opendatasets #uncomment when needed"
      ]
    },
    {
      "cell_type": "code",
      "execution_count": 2,
      "metadata": {
        "colab": {
          "base_uri": "https://localhost:8080/"
        },
        "id": "tvr-DX6IUX8J",
        "outputId": "19746d51-d575-4520-b604-099412f936ac"
      },
      "outputs": [],
      "source": [
        "#import opendatasets as od\n",
        "#od.download('https://www.kaggle.com/datasets/akshaydattatraykhare/diabetes-dataset/download?datasetVersionNumber=1')"
      ]
    },
    {
      "cell_type": "markdown",
      "metadata": {
        "id": "krk56CApnPfs"
      },
      "source": [
        "### Data Preparation"
      ]
    },
    {
      "cell_type": "code",
      "execution_count": 3,
      "metadata": {
        "id": "TQlFD1yNUcTf"
      },
      "outputs": [],
      "source": [
        "import pandas as pd\n",
        "df = pd.read_csv('diabetes.csv')"
      ]
    },
    {
      "cell_type": "code",
      "execution_count": 4,
      "metadata": {
        "colab": {
          "base_uri": "https://localhost:8080/"
        },
        "id": "NkndZ_pWUtBz",
        "outputId": "82950c5b-1e79-4f92-8f4a-e5bc5dd4bac7"
      },
      "outputs": [
        {
          "data": {
            "text/plain": [
              "(768, 9)"
            ]
          },
          "execution_count": 4,
          "metadata": {},
          "output_type": "execute_result"
        }
      ],
      "source": [
        "df.shape"
      ]
    },
    {
      "cell_type": "code",
      "execution_count": 5,
      "metadata": {
        "colab": {
          "base_uri": "https://localhost:8080/",
          "height": 206
        },
        "id": "PM9EK3DgUnq1",
        "outputId": "c18b38a6-d908-410a-cc8c-40039559d666"
      },
      "outputs": [
        {
          "data": {
            "text/html": [
              "<div>\n",
              "<style scoped>\n",
              "    .dataframe tbody tr th:only-of-type {\n",
              "        vertical-align: middle;\n",
              "    }\n",
              "\n",
              "    .dataframe tbody tr th {\n",
              "        vertical-align: top;\n",
              "    }\n",
              "\n",
              "    .dataframe thead th {\n",
              "        text-align: right;\n",
              "    }\n",
              "</style>\n",
              "<table border=\"1\" class=\"dataframe\">\n",
              "  <thead>\n",
              "    <tr style=\"text-align: right;\">\n",
              "      <th></th>\n",
              "      <th>Pregnancies</th>\n",
              "      <th>Glucose</th>\n",
              "      <th>BloodPressure</th>\n",
              "      <th>SkinThickness</th>\n",
              "      <th>Insulin</th>\n",
              "      <th>BMI</th>\n",
              "      <th>DiabetesPedigreeFunction</th>\n",
              "      <th>Age</th>\n",
              "      <th>Outcome</th>\n",
              "    </tr>\n",
              "  </thead>\n",
              "  <tbody>\n",
              "    <tr>\n",
              "      <th>0</th>\n",
              "      <td>6</td>\n",
              "      <td>148</td>\n",
              "      <td>72</td>\n",
              "      <td>35</td>\n",
              "      <td>0</td>\n",
              "      <td>33.6</td>\n",
              "      <td>0.627</td>\n",
              "      <td>50</td>\n",
              "      <td>1</td>\n",
              "    </tr>\n",
              "    <tr>\n",
              "      <th>1</th>\n",
              "      <td>1</td>\n",
              "      <td>85</td>\n",
              "      <td>66</td>\n",
              "      <td>29</td>\n",
              "      <td>0</td>\n",
              "      <td>26.6</td>\n",
              "      <td>0.351</td>\n",
              "      <td>31</td>\n",
              "      <td>0</td>\n",
              "    </tr>\n",
              "    <tr>\n",
              "      <th>2</th>\n",
              "      <td>8</td>\n",
              "      <td>183</td>\n",
              "      <td>64</td>\n",
              "      <td>0</td>\n",
              "      <td>0</td>\n",
              "      <td>23.3</td>\n",
              "      <td>0.672</td>\n",
              "      <td>32</td>\n",
              "      <td>1</td>\n",
              "    </tr>\n",
              "    <tr>\n",
              "      <th>3</th>\n",
              "      <td>1</td>\n",
              "      <td>89</td>\n",
              "      <td>66</td>\n",
              "      <td>23</td>\n",
              "      <td>94</td>\n",
              "      <td>28.1</td>\n",
              "      <td>0.167</td>\n",
              "      <td>21</td>\n",
              "      <td>0</td>\n",
              "    </tr>\n",
              "    <tr>\n",
              "      <th>4</th>\n",
              "      <td>0</td>\n",
              "      <td>137</td>\n",
              "      <td>40</td>\n",
              "      <td>35</td>\n",
              "      <td>168</td>\n",
              "      <td>43.1</td>\n",
              "      <td>2.288</td>\n",
              "      <td>33</td>\n",
              "      <td>1</td>\n",
              "    </tr>\n",
              "  </tbody>\n",
              "</table>\n",
              "</div>"
            ],
            "text/plain": [
              "   Pregnancies  Glucose  BloodPressure  SkinThickness  Insulin   BMI  \\\n",
              "0            6      148             72             35        0  33.6   \n",
              "1            1       85             66             29        0  26.6   \n",
              "2            8      183             64              0        0  23.3   \n",
              "3            1       89             66             23       94  28.1   \n",
              "4            0      137             40             35      168  43.1   \n",
              "\n",
              "   DiabetesPedigreeFunction  Age  Outcome  \n",
              "0                     0.627   50        1  \n",
              "1                     0.351   31        0  \n",
              "2                     0.672   32        1  \n",
              "3                     0.167   21        0  \n",
              "4                     2.288   33        1  "
            ]
          },
          "execution_count": 5,
          "metadata": {},
          "output_type": "execute_result"
        }
      ],
      "source": [
        "df.head()"
      ]
    },
    {
      "cell_type": "code",
      "execution_count": 6,
      "metadata": {
        "colab": {
          "base_uri": "https://localhost:8080/"
        },
        "id": "_Y_vcqGeX9HT",
        "outputId": "a97277ea-ccd6-42e7-9931-636877b38282"
      },
      "outputs": [
        {
          "data": {
            "text/plain": [
              "Pregnancies                 0.221898\n",
              "Glucose                     0.466581\n",
              "BloodPressure               0.065068\n",
              "SkinThickness               0.074752\n",
              "Insulin                     0.130548\n",
              "BMI                         0.292695\n",
              "DiabetesPedigreeFunction    0.173844\n",
              "Age                         0.238356\n",
              "Outcome                     1.000000\n",
              "Name: Outcome, dtype: float64"
            ]
          },
          "execution_count": 6,
          "metadata": {},
          "output_type": "execute_result"
        }
      ],
      "source": [
        "#Relation of feature columns with the target column\n",
        "df.corr()['Outcome']"
      ]
    },
    {
      "cell_type": "code",
      "execution_count": 7,
      "metadata": {
        "colab": {
          "base_uri": "https://localhost:8080/"
        },
        "id": "qKkFgLdvUr6T",
        "outputId": "a6ce6b94-a9c4-48f6-f1eb-99f4a7932ee1"
      },
      "outputs": [
        {
          "data": {
            "text/plain": [
              "Index(['Glucose', 'BMI', 'Age', 'Outcome'], dtype='object')"
            ]
          },
          "execution_count": 7,
          "metadata": {},
          "output_type": "execute_result"
        }
      ],
      "source": [
        "df = df.drop(columns=['Pregnancies', 'BloodPressure','SkinThickness',\t'Insulin', 'DiabetesPedigreeFunction' ])\n",
        "df.columns"
      ]
    },
    {
      "cell_type": "code",
      "execution_count": 8,
      "metadata": {
        "colab": {
          "base_uri": "https://localhost:8080/"
        },
        "id": "LiscsDZsXRgs",
        "outputId": "4fd0e722-45f2-459a-e4cb-0816c87db3c4"
      },
      "outputs": [
        {
          "data": {
            "text/plain": [
              "Glucose    0\n",
              "BMI        0\n",
              "Age        0\n",
              "Outcome    0\n",
              "dtype: int64"
            ]
          },
          "execution_count": 8,
          "metadata": {},
          "output_type": "execute_result"
        }
      ],
      "source": [
        "df.isnull().sum()"
      ]
    },
    {
      "cell_type": "code",
      "execution_count": 9,
      "metadata": {
        "colab": {
          "base_uri": "https://localhost:8080/",
          "height": 506
        },
        "id": "TrQODYoyXVVD",
        "outputId": "aa032378-fde8-4b46-d571-ba52d3016d03"
      },
      "outputs": [
        {
          "data": {
            "image/png": "[encoded data removed]",
            "text/plain": [
              "<Figure size 500x500 with 3 Axes>"
            ]
          },
          "metadata": {},
          "output_type": "display_data"
        }
      ],
      "source": [
        "import matplotlib.pyplot as plt\n",
        "import seaborn as sns\n",
        "\n",
        "fig, axes = plt.subplots(3, figsize=(5, 5))\n",
        "\n",
        "sns.histplot(data=df['Glucose'], kde=True, ax=axes[0], color='blue').set(title='Glucose Histogram')\n",
        "sns.histplot(data=df['BMI'], kde=True, ax=axes[1], color='grey').set(title='BMI Histogram')\n",
        "sns.histplot(data=df['Age'], kde=True, ax=axes[2], color='black').set(title='Age Histogram')\n",
        "\n",
        "plt.tight_layout()\n",
        "plt.show()\n"
      ]
    },
    {
      "cell_type": "code",
      "execution_count": 10,
      "metadata": {
        "colab": {
          "base_uri": "https://localhost:8080/"
        },
        "id": "fFguK77JY_qS",
        "outputId": "37fd2c4e-5a31-4e18-926c-221d9accf282"
      },
      "outputs": [
        {
          "data": {
            "text/plain": [
              "Outcome\n",
              "0    500\n",
              "1    268\n",
              "Name: count, dtype: int64"
            ]
          },
          "execution_count": 10,
          "metadata": {},
          "output_type": "execute_result"
        }
      ],
      "source": [
        "df.Outcome.value_counts()"
      ]
    },
    {
      "cell_type": "code",
      "execution_count": 11,
      "metadata": {
        "colab": {
          "base_uri": "https://localhost:8080/",
          "height": 430
        },
        "id": "5SLSZyVLafSh",
        "outputId": "fdd7b7c4-2017-4190-98b3-4c6f9336c4dd"
      },
      "outputs": [
        {
          "data": {
            "image/png": "[encoded data removed]",
            "text/plain": [
              "<Figure size 640x480 with 1 Axes>"
            ]
          },
          "metadata": {},
          "output_type": "display_data"
        }
      ],
      "source": [
        "sns.boxplot(data=df[['Glucose', 'BMI', 'Age']])\n",
        "plt.show()"
      ]
    },
    {
      "cell_type": "code",
      "execution_count": 12,
      "metadata": {
        "colab": {
          "base_uri": "https://localhost:8080/"
        },
        "id": "rO3I58qsaMNY",
        "outputId": "de3d196d-0c75-47db-ef1e-86d2f822abca"
      },
      "outputs": [
        {
          "data": {
            "text/plain": [
              "32"
            ]
          },
          "execution_count": 12,
          "metadata": {},
          "output_type": "execute_result"
        }
      ],
      "source": [
        "#outlier seperation\n",
        "Q1 = df[['Glucose', 'BMI', 'Age']].quantile(0.25)\n",
        "Q3 = df[['Glucose', 'BMI', 'Age']].quantile(0.75)\n",
        "IQR = Q3 - Q1\n",
        "\n",
        "outliers = ((df[['Glucose', 'BMI', 'Age']] < (Q1 - 1.5 * IQR)) | (df[['Glucose', 'BMI', 'Age']] > (Q3 + 1.5 * IQR))).any(axis=1)\n",
        "df_outliers = df[outliers]\n",
        "len(df_outliers)"
      ]
    },
    {
      "cell_type": "code",
      "execution_count": 13,
      "metadata": {
        "colab": {
          "base_uri": "https://localhost:8080/"
        },
        "id": "4IjIPweKapjA",
        "outputId": "56f44605-1e96-46bf-df40-5a8513c62a95"
      },
      "outputs": [
        {
          "data": {
            "text/plain": [
              "(736, 4)"
            ]
          },
          "execution_count": 13,
          "metadata": {},
          "output_type": "execute_result"
        }
      ],
      "source": [
        "#removing outliers\n",
        "df = df[~outliers]\n",
        "df.shape"
      ]
    },
    {
      "cell_type": "code",
      "execution_count": 14,
      "metadata": {
        "colab": {
          "base_uri": "https://localhost:8080/"
        },
        "id": "KLSsA-7lbrmd",
        "outputId": "e507c22a-722d-4332-8228-cc782c6764c0"
      },
      "outputs": [
        {
          "data": {
            "text/plain": [
              "Outcome\n",
              "0    480\n",
              "1    256\n",
              "Name: count, dtype: int64"
            ]
          },
          "execution_count": 14,
          "metadata": {},
          "output_type": "execute_result"
        }
      ],
      "source": [
        "df.Outcome.value_counts()"
      ]
    },
    {
      "cell_type": "code",
      "execution_count": 15,
      "metadata": {
        "id": "gqoM8773dIed"
      },
      "outputs": [],
      "source": [
        "#initializing features and targets\n",
        "features_neq = df.drop('Outcome', axis=1).values\n",
        "targets_neq = df['Outcome'].values"
      ]
    },
    {
      "cell_type": "code",
      "execution_count": 16,
      "metadata": {
        "colab": {
          "base_uri": "https://localhost:8080/"
        },
        "id": "BNsXZnlUdog-",
        "outputId": "1c817b11-c315-4d45-e783-58271a106c32"
      },
      "outputs": [
        {
          "data": {
            "text/plain": [
              "(array([148. ,  33.6,  50. ]), np.int64(1))"
            ]
          },
          "execution_count": 16,
          "metadata": {},
          "output_type": "execute_result"
        }
      ],
      "source": [
        "features_neq[0], targets_neq[0]"
      ]
    },
    {
      "cell_type": "code",
      "execution_count": 17,
      "metadata": {
        "colab": {
          "base_uri": "https://localhost:8080/"
        },
        "id": "c8bb5Z56dbEa",
        "outputId": "d130e7c1-5aae-41cf-8c81-c93a07f7103d"
      },
      "outputs": [
        {
          "data": {
            "text/plain": [
              "(736, 736)"
            ]
          },
          "execution_count": 17,
          "metadata": {},
          "output_type": "execute_result"
        }
      ],
      "source": [
        "len(features_neq), len(targets_neq)"
      ]
    },
    {
      "cell_type": "code",
      "execution_count": 18,
      "metadata": {
        "colab": {
          "base_uri": "https://localhost:8080/"
        },
        "id": "6958LLRobxYr",
        "outputId": "55ca1103-f614-4329-f444-4cce71fc2a45"
      },
      "outputs": [
        {
          "name": "stdout",
          "output_type": "stream",
          "text": [
            "Count of Target before over sampling:  Counter({np.int64(0): 480, np.int64(1): 256})\n",
            "Count of Target after over sampling:  Counter({np.int64(1): 480, np.int64(0): 480})\n"
          ]
        }
      ],
      "source": [
        "#Handling imbalanced dataset\n",
        "from collections import Counter\n",
        "print(\"Count of Target before over sampling: \",Counter(targets_neq))\n",
        "from imblearn.over_sampling import SMOTE\n",
        "os = SMOTE(sampling_strategy='minority',random_state=2007)\n",
        "features_n,targets_n = os.fit_resample(features_neq,targets_neq)\n",
        "print(\"Count of Target after over sampling: \",Counter(targets_n))"
      ]
    },
    {
      "cell_type": "code",
      "execution_count": 19,
      "metadata": {
        "id": "1FHAfoE_f85M"
      },
      "outputs": [],
      "source": [
        "import torch\n",
        "features = torch.tensor(features_n, dtype=torch.float32)\n",
        "targets = torch.tensor(targets_n, dtype=torch.float32)"
      ]
    },
    {
      "cell_type": "code",
      "execution_count": 20,
      "metadata": {
        "id": "V05j4Kv5eJ9n"
      },
      "outputs": [],
      "source": [
        "from sklearn.model_selection import train_test_split\n",
        "\n",
        "X_train,X_val,y_train,y_val=train_test_split(features,targets,test_size=0.2,random_state=2007)"
      ]
    },
    {
      "cell_type": "code",
      "execution_count": 21,
      "metadata": {
        "colab": {
          "base_uri": "https://localhost:8080/"
        },
        "id": "BzYJv3oQeqFn",
        "outputId": "26dda21f-f029-488b-e9e1-47757e4091f6"
      },
      "outputs": [
        {
          "data": {
            "text/plain": [
              "(768, 768, 192, 192)"
            ]
          },
          "execution_count": 21,
          "metadata": {},
          "output_type": "execute_result"
        }
      ],
      "source": [
        "len(X_train),len(y_train),len(X_val),len(y_val)"
      ]
    },
    {
      "cell_type": "code",
      "execution_count": 22,
      "metadata": {
        "id": "txahcoSvqrQO"
      },
      "outputs": [],
      "source": [
        "from sklearn.preprocessing import StandardScaler\n",
        "\n",
        "# Normalize the data\n",
        "scaler = StandardScaler()\n",
        "X_train_norm = scaler.fit_transform(X_train)\n",
        "X_val_norm = scaler.transform(X_val)"
      ]
    },
    {
      "cell_type": "markdown",
      "metadata": {
        "id": "z3rW7kq9nWfh"
      },
      "source": [
        "### Machine Learning"
      ]
    },
    {
      "cell_type": "code",
      "execution_count": 23,
      "metadata": {
        "colab": {
          "base_uri": "https://localhost:8080/"
        },
        "id": "DXt4lrkwew92",
        "outputId": "f1cfcaa7-51d3-4da6-ee86-7b2732033768"
      },
      "outputs": [
        {
          "name": "stdout",
          "output_type": "stream",
          "text": [
            "Accuracy: 0.78125\n",
            "Confusion Matrix:\n",
            " [[83 20]\n",
            " [22 67]]\n",
            "Classification Report:\n",
            "               precision    recall  f1-score   support\n",
            "\n",
            "         0.0       0.79      0.81      0.80       103\n",
            "         1.0       0.77      0.75      0.76        89\n",
            "\n",
            "    accuracy                           0.78       192\n",
            "   macro avg       0.78      0.78      0.78       192\n",
            "weighted avg       0.78      0.78      0.78       192\n",
            "\n"
          ]
        }
      ],
      "source": [
        "from sklearn.linear_model import LogisticRegression\n",
        "from sklearn.metrics import accuracy_score, confusion_matrix, classification_report\n",
        "\n",
        "# Instantiate the model\n",
        "log_model = LogisticRegression()\n",
        "\n",
        "# Train the model\n",
        "log_model.fit(X_train_norm, y_train)\n",
        "\n",
        "# Make predictions on the validation set\n",
        "y_pred = log_model.predict(X_val_norm)\n",
        "\n",
        "# Evaluate the model\n",
        "accuracy = accuracy_score(y_val, y_pred)\n",
        "conf_matrix = confusion_matrix(y_val, y_pred)\n",
        "class_report = classification_report(y_val, y_pred)\n",
        "\n",
        "print(\"Accuracy:\", accuracy)\n",
        "print(\"Confusion Matrix:\\n\", conf_matrix)\n",
        "print(\"Classification Report:\\n\", class_report)\n"
      ]
    },
    {
      "cell_type": "code",
      "execution_count": 24,
      "metadata": {
        "colab": {
          "base_uri": "https://localhost:8080/"
        },
        "id": "MxwGozrSsK-5",
        "outputId": "78c0ba7d-7f72-4acc-e1b6-e4bc2fef22b3"
      },
      "outputs": [
        {
          "name": "stdout",
          "output_type": "stream",
          "text": [
            "Accuracy: 0.7604166666666666\n",
            "Confusion Matrix:\n",
            " [[72 31]\n",
            " [15 74]]\n",
            "Classification Report:\n",
            "               precision    recall  f1-score   support\n",
            "\n",
            "         0.0       0.83      0.70      0.76       103\n",
            "         1.0       0.70      0.83      0.76        89\n",
            "\n",
            "    accuracy                           0.76       192\n",
            "   macro avg       0.77      0.77      0.76       192\n",
            "weighted avg       0.77      0.76      0.76       192\n",
            "\n"
          ]
        }
      ],
      "source": [
        "from sklearn.neighbors import KNeighborsClassifier\n",
        "from sklearn.metrics import accuracy_score, confusion_matrix, classification_report\n",
        "\n",
        "# Instantiate the model\n",
        "knn_model = KNeighborsClassifier()\n",
        "\n",
        "# Train the model\n",
        "knn_model.fit(X_train_norm, y_train)\n",
        "\n",
        "# Make predictions on the validation set\n",
        "y_pred = knn_model.predict(X_val_norm)\n",
        "\n",
        "# Evaluate the model\n",
        "accuracy = accuracy_score(y_val, y_pred)\n",
        "conf_matrix = confusion_matrix(y_val, y_pred)\n",
        "class_report = classification_report(y_val, y_pred)\n",
        "\n",
        "print(\"Accuracy:\", accuracy)\n",
        "print(\"Confusion Matrix:\\n\", conf_matrix)\n",
        "print(\"Classification Report:\\n\", class_report)"
      ]
    },
    {
      "cell_type": "code",
      "execution_count": 25,
      "metadata": {
        "colab": {
          "base_uri": "https://localhost:8080/"
        },
        "id": "bBf_IgWDsvgx",
        "outputId": "cb5dc7d1-d6b6-40b6-ad60-cdd4a1277e1b"
      },
      "outputs": [
        {
          "name": "stdout",
          "output_type": "stream",
          "text": [
            "Accuracy: 0.7708333333333334\n",
            "Confusion Matrix:\n",
            " [[76 27]\n",
            " [17 72]]\n",
            "Classification Report:\n",
            "               precision    recall  f1-score   support\n",
            "\n",
            "         0.0       0.82      0.74      0.78       103\n",
            "         1.0       0.73      0.81      0.77        89\n",
            "\n",
            "    accuracy                           0.77       192\n",
            "   macro avg       0.77      0.77      0.77       192\n",
            "weighted avg       0.78      0.77      0.77       192\n",
            "\n"
          ]
        }
      ],
      "source": [
        "from sklearn.ensemble import RandomForestClassifier\n",
        "from sklearn.metrics import accuracy_score, confusion_matrix, classification_report\n",
        "\n",
        "# Instantiate the model\n",
        "rf_model = RandomForestClassifier(n_estimators=200)\n",
        "\n",
        "# Train the model\n",
        "rf_model.fit(X_train_norm, y_train)\n",
        "\n",
        "# Make predictions on the validation set\n",
        "y_pred = rf_model.predict(X_val_norm)\n",
        "\n",
        "# Evaluate the model\n",
        "accuracy = accuracy_score(y_val, y_pred)\n",
        "conf_matrix = confusion_matrix(y_val, y_pred)\n",
        "class_report = classification_report(y_val, y_pred)\n",
        "\n",
        "print(\"Accuracy:\", accuracy)\n",
        "print(\"Confusion Matrix:\\n\", conf_matrix)\n",
        "print(\"Classification Report:\\n\", class_report)"
      ]
    },
    {
      "cell_type": "code",
      "execution_count": 26,
      "metadata": {
        "colab": {
          "base_uri": "https://localhost:8080/"
        },
        "id": "O_uZVzUAtBdD",
        "outputId": "f57f03e1-ce51-4637-b5eb-907ea0c95eab"
      },
      "outputs": [
        {
          "name": "stdout",
          "output_type": "stream",
          "text": [
            "Accuracy: 0.7552083333333334\n",
            "Confusion Matrix:\n",
            " [[77 26]\n",
            " [21 68]]\n",
            "Classification Report:\n",
            "               precision    recall  f1-score   support\n",
            "\n",
            "         0.0       0.79      0.75      0.77       103\n",
            "         1.0       0.72      0.76      0.74        89\n",
            "\n",
            "    accuracy                           0.76       192\n",
            "   macro avg       0.75      0.76      0.75       192\n",
            "weighted avg       0.76      0.76      0.76       192\n",
            "\n"
          ]
        }
      ],
      "source": [
        "from sklearn.tree import DecisionTreeClassifier\n",
        "from sklearn.metrics import accuracy_score, confusion_matrix, classification_report\n",
        "\n",
        "# Instantiate the model\n",
        "dec_model = DecisionTreeClassifier()\n",
        "\n",
        "# Train the model\n",
        "dec_model.fit(X_train_norm, y_train)\n",
        "\n",
        "# Make predictions on the validation set\n",
        "y_pred = dec_model.predict(X_val_norm)\n",
        "\n",
        "# Evaluate the model\n",
        "accuracy = accuracy_score(y_val, y_pred)\n",
        "conf_matrix = confusion_matrix(y_val, y_pred)\n",
        "class_report = classification_report(y_val, y_pred)\n",
        "\n",
        "print(\"Accuracy:\", accuracy)\n",
        "print(\"Confusion Matrix:\\n\", conf_matrix)\n",
        "print(\"Classification Report:\\n\", class_report)"
      ]
    },
    {
      "cell_type": "code",
      "execution_count": 27,
      "metadata": {
        "colab": {
          "base_uri": "https://localhost:8080/"
        },
        "id": "SbyjaOtwtfZv",
        "outputId": "248d79fd-9dfa-4c48-e636-72436c2bf4f3"
      },
      "outputs": [
        {
          "name": "stdout",
          "output_type": "stream",
          "text": [
            "+--------------------------------+------------+\n",
            "| ML Algorithm                   | Accuracy   |\n",
            "+================================+============+\n",
            "| Random Forest Classifier       | 79.68%     |\n",
            "+--------------------------------+------------+\n",
            "| Logistic Regression            | 78.12%     |\n",
            "+--------------------------------+------------+\n",
            "| Decision Tree Classifier       | 76.56%     |\n",
            "+--------------------------------+------------+\n",
            "| K-Nearest Neighbors Classifier | 76.04%     |\n",
            "+--------------------------------+------------+\n"
          ]
        }
      ],
      "source": [
        "from tabulate import tabulate\n",
        "\n",
        "# Define the data\n",
        "data = [\n",
        "    [\"Random Forest Classifier\", \"79.68%\"],\n",
        "    [\"Logistic Regression\", \"78.12%\"],\n",
        "    [\"Decision Tree Classifier\", \"76.56%\"],\n",
        "    [\"K-Nearest Neighbors Classifier\", \"76.04%\"]\n",
        "]\n",
        "\n",
        "# Define the headers\n",
        "headers = [\"ML Algorithm\", \"Accuracy\"]\n",
        "\n",
        "# Print the table\n",
        "print(tabulate(data, headers=headers, tablefmt=\"grid\"))\n"
      ]
    },
    {
      "cell_type": "markdown",
      "metadata": {
        "id": "uRG4NpAknaAC"
      },
      "source": [
        "### Deep Learning"
      ]
    },
    {
      "cell_type": "code",
      "execution_count": 28,
      "metadata": {
        "colab": {
          "base_uri": "https://localhost:8080/"
        },
        "id": "dUdIiORigiRF",
        "outputId": "e41a77f9-be0b-4b56-ea37-566c5bb86cf2"
      },
      "outputs": [
        {
          "name": "stderr",
          "output_type": "stream",
          "text": [
            "C:\\Users\\mohda\\AppData\\Local\\Temp\\ipykernel_12740\\4255503765.py:5: UserWarning: To copy construct from a tensor, it is recommended to use sourceTensor.clone().detach() or sourceTensor.clone().detach().requires_grad_(True), rather than torch.tensor(sourceTensor).\n",
            "  y_train_tensor = torch.tensor(y_train, dtype=torch.float32)\n",
            "C:\\Users\\mohda\\AppData\\Local\\Temp\\ipykernel_12740\\4255503765.py:6: UserWarning: To copy construct from a tensor, it is recommended to use sourceTensor.clone().detach() or sourceTensor.clone().detach().requires_grad_(True), rather than torch.tensor(sourceTensor).\n",
            "  y_val_tensor = torch.tensor(y_val, dtype=torch.float32)\n"
          ]
        }
      ],
      "source": [
        "from torch.utils.data import TensorDataset, DataLoader\n",
        "# Convert the data to PyTorch tensors\n",
        "X_train_tensor = torch.tensor(X_train_norm, dtype=torch.float32)\n",
        "X_val_tensor = torch.tensor(X_val_norm, dtype=torch.float32)\n",
        "y_train_tensor = torch.tensor(y_train, dtype=torch.float32)\n",
        "y_val_tensor = torch.tensor(y_val, dtype=torch.float32)\n",
        "\n",
        "# Create DataLoader objects for train and validation sets\n",
        "train_dataset = TensorDataset(X_train_tensor, y_train_tensor)\n",
        "val_dataset = TensorDataset(X_val_tensor, y_val_tensor)\n",
        "\n",
        "batch_size = 64\n",
        "train_loader = DataLoader(train_dataset, batch_size=batch_size, shuffle=True)\n",
        "val_loader = DataLoader(val_dataset, batch_size=batch_size)"
      ]
    },
    {
      "cell_type": "markdown",
      "metadata": {
        "id": "7gn56uA3nbyZ"
      },
      "source": [
        "#### Model"
      ]
    },
    {
      "cell_type": "code",
      "execution_count": 29,
      "metadata": {
        "id": "g2FAorfzhKel"
      },
      "outputs": [],
      "source": [
        "import torch.nn as nn\n",
        "class DiabetesModel(nn.Module):\n",
        "  def __init__(self, input_size):\n",
        "        super(DiabetesModel, self).__init__()\n",
        "        self.network = nn.Sequential(\n",
        "            nn.Linear(input_size, 32),\n",
        "            nn.ReLU(),\n",
        "\n",
        "            nn.Linear(32, 64),\n",
        "            nn.ReLU(),\n",
        "\n",
        "            nn.Linear(64, 128),\n",
        "            nn.ReLU(),\n",
        "\n",
        "            nn.Linear(128, 64),\n",
        "            nn.ReLU(),\n",
        "\n",
        "            nn.Linear(64, 64),\n",
        "            nn.ReLU(),\n",
        "\n",
        "            nn.Linear(64, 32)\n",
        "        )\n",
        "        self.classifier = nn.Sequential(\n",
        "            nn.Linear(32, 1),\n",
        "            nn.Sigmoid()\n",
        "        )\n",
        "  def forward(self, x):\n",
        "    network = self.network(x)\n",
        "    classifier = self.classifier(network)\n",
        "    return classifier"
      ]
    },
    {
      "cell_type": "code",
      "execution_count": 30,
      "metadata": {
        "id": "tP-YeLxghE0g"
      },
      "outputs": [],
      "source": [
        "# Instantiate the model\n",
        "input_size = X_train.shape[1]\n",
        "model = DiabetesModel(input_size)"
      ]
    },
    {
      "cell_type": "code",
      "execution_count": 31,
      "metadata": {
        "colab": {
          "base_uri": "https://localhost:8080/"
        },
        "id": "jn1yGl99jr2a",
        "outputId": "5dd86077-a944-4236-b625-eb9ec10ffa80"
      },
      "outputs": [
        {
          "data": {
            "text/plain": [
              "DiabetesModel(\n",
              "  (network): Sequential(\n",
              "    (0): Linear(in_features=3, out_features=32, bias=True)\n",
              "    (1): ReLU()\n",
              "    (2): Linear(in_features=32, out_features=64, bias=True)\n",
              "    (3): ReLU()\n",
              "    (4): Linear(in_features=64, out_features=128, bias=True)\n",
              "    (5): ReLU()\n",
              "    (6): Linear(in_features=128, out_features=64, bias=True)\n",
              "    (7): ReLU()\n",
              "    (8): Linear(in_features=64, out_features=64, bias=True)\n",
              "    (9): ReLU()\n",
              "    (10): Linear(in_features=64, out_features=32, bias=True)\n",
              "  )\n",
              "  (classifier): Sequential(\n",
              "    (0): Linear(in_features=32, out_features=1, bias=True)\n",
              "    (1): Sigmoid()\n",
              "  )\n",
              ")"
            ]
          },
          "execution_count": 31,
          "metadata": {},
          "output_type": "execute_result"
        }
      ],
      "source": [
        "model"
      ]
    },
    {
      "cell_type": "code",
      "execution_count": 32,
      "metadata": {
        "colab": {
          "base_uri": "https://localhost:8080/"
        },
        "id": "V1oaxacsj_sw",
        "outputId": "df1c56f4-c9f7-4b3c-f51a-63832bf367cb"
      },
      "outputs": [
        {
          "name": "stdout",
          "output_type": "stream",
          "text": [
            "Number of parameters in the model: 25089\n"
          ]
        }
      ],
      "source": [
        "def count_parameters(model):\n",
        "    return sum(p.numel() for p in model.parameters() if p.requires_grad)\n",
        "\n",
        "num_params = count_parameters(model)\n",
        "print(f\"Number of parameters in the model: {num_params}\")"
      ]
    },
    {
      "cell_type": "markdown",
      "metadata": {
        "id": "D7vh8I6nnhMA"
      },
      "source": [
        "#### Training"
      ]
    },
    {
      "cell_type": "code",
      "execution_count": 33,
      "metadata": {
        "id": "Ewy155TQhEtr"
      },
      "outputs": [],
      "source": [
        "criterion = nn.BCELoss()\n",
        "optimizer = torch.optim.Adam(model.parameters(), lr=0.01)"
      ]
    },
    {
      "cell_type": "code",
      "execution_count": 34,
      "metadata": {
        "id": "4AqXhaQShCPM"
      },
      "outputs": [],
      "source": [
        "from torch.optim.lr_scheduler import ReduceLROnPlateau\n",
        "import numpy as np\n",
        "\n",
        "def train(model, train_loader, val_loader, criterion, optimizer, num_epochs, patience=5):\n",
        "    scheduler = ReduceLROnPlateau(optimizer, mode='min', factor=0.1, patience=3, verbose=True)\n",
        "    best_val_loss = np.inf\n",
        "    counter = 0\n",
        "    for epoch in range(num_epochs):\n",
        "        model.train()\n",
        "        train_loss = 0.0\n",
        "        for inputs, labels in train_loader:\n",
        "            optimizer.zero_grad()\n",
        "            outputs = model(inputs)\n",
        "            loss = criterion(outputs, labels.unsqueeze(1))\n",
        "            loss.backward()\n",
        "            optimizer.step()\n",
        "            train_loss += loss.item() * inputs.size(0)\n",
        "        train_loss /= len(train_loader.dataset)\n",
        "\n",
        "        model.eval()\n",
        "        val_loss = 0.0\n",
        "        correct = 0\n",
        "        total = 0\n",
        "        with torch.no_grad():\n",
        "            for inputs, labels in val_loader:\n",
        "                outputs = model(inputs)\n",
        "                val_loss += criterion(outputs, labels.unsqueeze(1)).item()\n",
        "                predicted = (outputs > 0.5).float()\n",
        "                correct += (predicted == labels.unsqueeze(1)).sum().item()\n",
        "                total += labels.size(0)\n",
        "            val_loss /= len(val_loader.dataset)\n",
        "            val_accuracy = correct / total\n",
        "\n",
        "        scheduler.step(val_loss)\n",
        "          # Early stopping\n",
        "        if val_loss < best_val_loss:\n",
        "            best_val_loss = val_loss\n",
        "            counter = 0\n",
        "        else:\n",
        "            counter += 1\n",
        "            if counter >= patience:\n",
        "                print(f'Early stopping at epoch {epoch+1}')\n",
        "                break\n",
        "\n",
        "        print(f\"Epoch {epoch+1}/{num_epochs}, Train Loss: {train_loss:.4f}, Val Loss: {val_loss:.4f}, Val Accuracy: {val_accuracy:.4f}\")\n",
        "\n",
        "\n",
        "    return epoch+1, train_loss, val_loss, val_accuracy"
      ]
    },
    {
      "cell_type": "code",
      "execution_count": 35,
      "metadata": {
        "colab": {
          "base_uri": "https://localhost:8080/"
        },
        "id": "cPX6OhyDhCMv",
        "outputId": "b46ffca2-5a31-4622-9148-cb489d7851d3"
      },
      "outputs": [
        {
          "name": "stderr",
          "output_type": "stream",
          "text": [
            "C:\\Users\\mohda\\AppData\\Roaming\\Python\\Python311\\site-packages\\torch\\optim\\lr_scheduler.py:62: UserWarning: The verbose parameter is deprecated. Please use get_last_lr() to access the learning rate.\n",
            "  warnings.warn(\n"
          ]
        },
        {
          "name": "stdout",
          "output_type": "stream",
          "text": [
            "Epoch 1/500, Train Loss: 0.5887, Val Loss: 0.0076, Val Accuracy: 0.7708\n",
            "Epoch 2/500, Train Loss: 0.5280, Val Loss: 0.0071, Val Accuracy: 0.7812\n",
            "Epoch 3/500, Train Loss: 0.5258, Val Loss: 0.0065, Val Accuracy: 0.7865\n",
            "Epoch 4/500, Train Loss: 0.4943, Val Loss: 0.0064, Val Accuracy: 0.8073\n",
            "Epoch 5/500, Train Loss: 0.4972, Val Loss: 0.0063, Val Accuracy: 0.7865\n",
            "Epoch 6/500, Train Loss: 0.4868, Val Loss: 0.0067, Val Accuracy: 0.7760\n",
            "Epoch 7/500, Train Loss: 0.4785, Val Loss: 0.0069, Val Accuracy: 0.7812\n",
            "Epoch 8/500, Train Loss: 0.4874, Val Loss: 0.0073, Val Accuracy: 0.8021\n",
            "Epoch 9/500, Train Loss: 0.4748, Val Loss: 0.0064, Val Accuracy: 0.7865\n",
            "Epoch 10/500, Train Loss: 0.4684, Val Loss: 0.0063, Val Accuracy: 0.8021\n",
            "Epoch 11/500, Train Loss: 0.4567, Val Loss: 0.0064, Val Accuracy: 0.8125\n",
            "Epoch 12/500, Train Loss: 0.4563, Val Loss: 0.0063, Val Accuracy: 0.8073\n",
            "Epoch 13/500, Train Loss: 0.4544, Val Loss: 0.0063, Val Accuracy: 0.8073\n",
            "Epoch 14/500, Train Loss: 0.4543, Val Loss: 0.0062, Val Accuracy: 0.8073\n",
            "Epoch 15/500, Train Loss: 0.4538, Val Loss: 0.0063, Val Accuracy: 0.8073\n",
            "Epoch 16/500, Train Loss: 0.4526, Val Loss: 0.0063, Val Accuracy: 0.8073\n",
            "Epoch 17/500, Train Loss: 0.4517, Val Loss: 0.0063, Val Accuracy: 0.8073\n",
            "Epoch 18/500, Train Loss: 0.4514, Val Loss: 0.0063, Val Accuracy: 0.8125\n",
            "Epoch 19/500, Train Loss: 0.4497, Val Loss: 0.0063, Val Accuracy: 0.8125\n",
            "Epoch 20/500, Train Loss: 0.4495, Val Loss: 0.0063, Val Accuracy: 0.8125\n",
            "Epoch 21/500, Train Loss: 0.4494, Val Loss: 0.0063, Val Accuracy: 0.8125\n",
            "Epoch 22/500, Train Loss: 0.4494, Val Loss: 0.0063, Val Accuracy: 0.8125\n",
            "Epoch 23/500, Train Loss: 0.4491, Val Loss: 0.0063, Val Accuracy: 0.8125\n",
            "Epoch 24/500, Train Loss: 0.4491, Val Loss: 0.0063, Val Accuracy: 0.8125\n",
            "Epoch 25/500, Train Loss: 0.4491, Val Loss: 0.0063, Val Accuracy: 0.8125\n",
            "Epoch 26/500, Train Loss: 0.4491, Val Loss: 0.0063, Val Accuracy: 0.8125\n",
            "Epoch 27/500, Train Loss: 0.4491, Val Loss: 0.0063, Val Accuracy: 0.8125\n",
            "Epoch 28/500, Train Loss: 0.4491, Val Loss: 0.0063, Val Accuracy: 0.8125\n",
            "Epoch 29/500, Train Loss: 0.4491, Val Loss: 0.0063, Val Accuracy: 0.8125\n",
            "Epoch 30/500, Train Loss: 0.4491, Val Loss: 0.0063, Val Accuracy: 0.8125\n",
            "Epoch 31/500, Train Loss: 0.4491, Val Loss: 0.0063, Val Accuracy: 0.8125\n",
            "Epoch 32/500, Train Loss: 0.4491, Val Loss: 0.0063, Val Accuracy: 0.8125\n",
            "Epoch 33/500, Train Loss: 0.4491, Val Loss: 0.0063, Val Accuracy: 0.8125\n",
            "Epoch 34/500, Train Loss: 0.4491, Val Loss: 0.0063, Val Accuracy: 0.8125\n",
            "Epoch 35/500, Train Loss: 0.4491, Val Loss: 0.0063, Val Accuracy: 0.8125\n",
            "Epoch 36/500, Train Loss: 0.4491, Val Loss: 0.0063, Val Accuracy: 0.8125\n",
            "Epoch 37/500, Train Loss: 0.4491, Val Loss: 0.0063, Val Accuracy: 0.8125\n",
            "Epoch 38/500, Train Loss: 0.4491, Val Loss: 0.0063, Val Accuracy: 0.8125\n",
            "Epoch 39/500, Train Loss: 0.4491, Val Loss: 0.0063, Val Accuracy: 0.8125\n",
            "Epoch 40/500, Train Loss: 0.4491, Val Loss: 0.0063, Val Accuracy: 0.8125\n",
            "Epoch 41/500, Train Loss: 0.4491, Val Loss: 0.0063, Val Accuracy: 0.8125\n",
            "Epoch 42/500, Train Loss: 0.4491, Val Loss: 0.0063, Val Accuracy: 0.8125\n",
            "Epoch 43/500, Train Loss: 0.4491, Val Loss: 0.0063, Val Accuracy: 0.8125\n",
            "Epoch 44/500, Train Loss: 0.4491, Val Loss: 0.0063, Val Accuracy: 0.8125\n",
            "Epoch 45/500, Train Loss: 0.4491, Val Loss: 0.0063, Val Accuracy: 0.8125\n",
            "Epoch 46/500, Train Loss: 0.4491, Val Loss: 0.0063, Val Accuracy: 0.8125\n",
            "Epoch 47/500, Train Loss: 0.4491, Val Loss: 0.0063, Val Accuracy: 0.8125\n",
            "Epoch 48/500, Train Loss: 0.4491, Val Loss: 0.0063, Val Accuracy: 0.8125\n",
            "Epoch 49/500, Train Loss: 0.4491, Val Loss: 0.0063, Val Accuracy: 0.8125\n",
            "Epoch 50/500, Train Loss: 0.4491, Val Loss: 0.0063, Val Accuracy: 0.8125\n",
            "Epoch 51/500, Train Loss: 0.4491, Val Loss: 0.0063, Val Accuracy: 0.8125\n",
            "Epoch 52/500, Train Loss: 0.4491, Val Loss: 0.0063, Val Accuracy: 0.8125\n",
            "Epoch 53/500, Train Loss: 0.4491, Val Loss: 0.0063, Val Accuracy: 0.8125\n",
            "Epoch 54/500, Train Loss: 0.4491, Val Loss: 0.0063, Val Accuracy: 0.8125\n",
            "Epoch 55/500, Train Loss: 0.4491, Val Loss: 0.0063, Val Accuracy: 0.8125\n",
            "Epoch 56/500, Train Loss: 0.4491, Val Loss: 0.0063, Val Accuracy: 0.8125\n",
            "Epoch 57/500, Train Loss: 0.4491, Val Loss: 0.0063, Val Accuracy: 0.8125\n",
            "Epoch 58/500, Train Loss: 0.4491, Val Loss: 0.0063, Val Accuracy: 0.8125\n",
            "Epoch 59/500, Train Loss: 0.4491, Val Loss: 0.0063, Val Accuracy: 0.8125\n",
            "Epoch 60/500, Train Loss: 0.4491, Val Loss: 0.0063, Val Accuracy: 0.8125\n",
            "Epoch 61/500, Train Loss: 0.4491, Val Loss: 0.0063, Val Accuracy: 0.8125\n",
            "Epoch 62/500, Train Loss: 0.4491, Val Loss: 0.0063, Val Accuracy: 0.8125\n",
            "Epoch 63/500, Train Loss: 0.4491, Val Loss: 0.0063, Val Accuracy: 0.8125\n",
            "Early stopping at epoch 64\n"
          ]
        }
      ],
      "source": [
        "# Assuming model, train_loader, val_loader, criterion, and optimizer are already defined\n",
        "num_epochs = 500\n",
        "patience = 50\n",
        "history = train(model, train_loader, val_loader, criterion, optimizer, num_epochs, patience)"
      ]
    },
    {
      "cell_type": "markdown",
      "metadata": {
        "id": "8Lcugw4yubr9"
      },
      "source": [
        "### Saving"
      ]
    },
    {
      "cell_type": "code",
      "execution_count": 36,
      "metadata": {
        "colab": {
          "base_uri": "https://localhost:8080/"
        },
        "id": "fW-wSUjPhCI3",
        "outputId": "8f739dfe-3689-4ce0-e9a9-0ce4c3a5edd2"
      },
      "outputs": [
        {
          "name": "stdout",
          "output_type": "stream",
          "text": [
            "✅ Model saved successfully at: C:\\Users\\mohda\\Documents\\AI Health Assistant\\Notebook\\diabates_output\\diabetes_random_forest.joblib\n"
          ]
        }
      ],
      "source": [
        "from joblib import dump, load\n",
        "# Save the machine learning model with highest stability and accuracy i.e 78%\n",
        "dump(rf_model, 'diabates_random_forest.joblib')\n",
        "\n",
        "from joblib import dump, load\n",
        "import os\n",
        "\n",
        "# Set the desired output folder path\n",
        "output_path = r'C:\\Users\\mohda\\Documents\\AI Health Assistant\\Notebook\\diabates_output'\n",
        "\n",
        "# Create the directory if it doesn't exist\n",
        "os.makedirs(output_path, exist_ok=True)\n",
        "\n",
        "# Full path to save the model\n",
        "model_file_path = os.path.join(output_path, 'diabetes_random_forest.joblib')\n",
        "\n",
        "# Save the machine learning model with highest stability and accuracy i.e 78%\n",
        "dump(rf_model, model_file_path)\n",
        "\n",
        "print(f\"✅ Model saved successfully at: {model_file_path}\")"
      ]
    }
  ],
  "metadata": {
    "colab": {
      "provenance": []
    },
    "kernelspec": {
      "display_name": "Python 3",
      "name": "python3"
    },
    "language_info": {
      "codemirror_mode": {
        "name": "ipython",
        "version": 3
      },
      "file_extension": ".py",
      "mimetype": "text/x-python",
      "name": "python",
      "nbconvert_exporter": "python",
      "pygments_lexer": "ipython3",
      "version": "3.11.5"
    }
  },
  "nbformat": 4,
  "nbformat_minor": 0
}
