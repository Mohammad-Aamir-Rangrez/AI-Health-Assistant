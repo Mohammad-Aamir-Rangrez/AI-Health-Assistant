{
  "cells": [
    {
      "cell_type": "markdown",
      "metadata": {
        "id": "nMPIMsBXnowt"
      },
      "source": [
        "### Data Preparation"
      ]
    },
    {
      "cell_type": "code",
      "execution_count": 1,
      "metadata": {
        "colab": {
          "base_uri": "https://localhost:8080/"
        },
        "id": "nrcgcY0HWd3u",
        "outputId": "998fc695-b11e-4648-ac5f-d2b73f88e306"
      },
      "outputs": [
        {
          "name": "stdout",
          "output_type": "stream",
          "text": [
            "Defaulting to user installation because normal site-packages is not writeable\n",
            "Requirement already satisfied: opendatasets in c:\\users\\mohda\\appdata\\roaming\\python\\python311\\site-packages (0.1.22)\n",
            "Requirement already satisfied: tqdm in c:\\users\\mohda\\appdata\\roaming\\python\\python311\\site-packages (from opendatasets) (4.67.1)\n",
            "Requirement already satisfied: kaggle in c:\\users\\mohda\\appdata\\roaming\\python\\python311\\site-packages (from opendatasets) (1.6.17)\n",
            "Requirement already satisfied: click in c:\\users\\mohda\\appdata\\roaming\\python\\python311\\site-packages (from opendatasets) (8.1.7)\n",
            "Requirement already satisfied: colorama in c:\\users\\mohda\\appdata\\roaming\\python\\python311\\site-packages (from click->opendatasets) (0.4.6)\n",
            "Requirement already satisfied: six>=1.10 in c:\\program files\\python311\\lib\\site-packages (from kaggle->opendatasets) (1.16.0)\n",
            "Requirement already satisfied: certifi>=2023.7.22 in c:\\users\\mohda\\appdata\\roaming\\python\\python311\\site-packages (from kaggle->opendatasets) (2025.1.31)\n",
            "Requirement already satisfied: python-dateutil in c:\\program files\\python311\\lib\\site-packages (from kaggle->opendatasets) (2.9.0.post0)\n",
            "Requirement already satisfied: requests in c:\\users\\mohda\\appdata\\roaming\\python\\python311\\site-packages (from kaggle->opendatasets) (2.32.3)\n",
            "Requirement already satisfied: python-slugify in c:\\users\\mohda\\appdata\\roaming\\python\\python311\\site-packages (from kaggle->opendatasets) (8.0.4)\n",
            "Requirement already satisfied: urllib3 in c:\\users\\mohda\\appdata\\roaming\\python\\python311\\site-packages (from kaggle->opendatasets) (2.4.0)\n",
            "Requirement already satisfied: bleach in c:\\program files\\python311\\lib\\site-packages (from kaggle->opendatasets) (6.2.0)\n",
            "Requirement already satisfied: webencodings in c:\\program files\\python311\\lib\\site-packages (from bleach->kaggle->opendatasets) (0.5.1)\n",
            "Requirement already satisfied: text-unidecode>=1.3 in c:\\users\\mohda\\appdata\\roaming\\python\\python311\\site-packages (from python-slugify->kaggle->opendatasets) (1.3)\n",
            "Requirement already satisfied: charset-normalizer<4,>=2 in c:\\users\\mohda\\appdata\\roaming\\python\\python311\\site-packages (from requests->kaggle->opendatasets) (3.4.1)\n",
            "Requirement already satisfied: idna<4,>=2.5 in c:\\users\\mohda\\appdata\\roaming\\python\\python311\\site-packages (from requests->kaggle->opendatasets) (3.10)\n"
          ]
        }
      ],
      "source": [
        "!pip install opendatasets"
      ]
    },
    {
      "cell_type": "code",
      "execution_count": null,
      "metadata": {
        "colab": {
          "base_uri": "https://localhost:8080/"
        },
        "id": "I6P_5cbGWnYv",
        "outputId": "fbdbc44f-1ab0-49be-a17c-7bfe0aa77c12"
      },
      "outputs": [
        {
          "name": "stdout",
          "output_type": "stream",
          "text": [
            "Please provide your Kaggle credentials to download this dataset. Learn more: http://bit.ly/kaggle-creds\n",
            "Your Kaggle username:"
          ]
        }
      ],
      "source": [
        "import opendatasets as od\n",
        "od.download(\"https://www.kaggle.com/datasets/prasad22/healthcare-dataset\")"
      ]
    },
    {
      "cell_type": "code",
      "execution_count": 2,
      "metadata": {
        "colab": {
          "base_uri": "https://localhost:8080/",
          "height": 423
        },
        "collapsed": true,
        "id": "q-CvLDIMWrs5",
        "outputId": "303ca4ec-f55a-4ffc-9466-c7b241521a4c"
      },
      "outputs": [
        {
          "name": "stdout",
          "output_type": "stream",
          "text": [
            "   Age  Gender Blood Type Medical Condition  Test Results   Medication\n",
            "0   30    Male         B-            Cancer        Normal  Paracetamol\n",
            "1   62    Male         A+           Obesity  Inconclusive    Ibuprofen\n",
            "2   76  Female         A-           Obesity        Normal      Aspirin\n",
            "3   28  Female         O+          Diabetes      Abnormal    Ibuprofen\n",
            "4   43  Female        AB+            Cancer      Abnormal   Penicillin\n"
          ]
        }
      ],
      "source": [
        "import pandas as pd\n",
        "df = pd.read_csv(\"madincine_classification.csv\")\n",
        "df = df[['Age','Gender','Blood Type','Medical Condition','Test Results','Medication']]\n",
        "print(df.head())"
      ]
    },
    {
      "cell_type": "code",
      "execution_count": 3,
      "metadata": {
        "colab": {
          "base_uri": "https://localhost:8080/",
          "height": 209
        },
        "id": "PUq7tSYfWzTl",
        "outputId": "897d2af8-e1d5-4864-f88f-7c99fd14fed8"
      },
      "outputs": [
        {
          "data": {
            "text/plain": [
              "Test Results\n",
              "Abnormal        18627\n",
              "Normal          18517\n",
              "Inconclusive    18356\n",
              "Name: count, dtype: int64"
            ]
          },
          "execution_count": 3,
          "metadata": {},
          "output_type": "execute_result"
        }
      ],
      "source": [
        "df['Test Results'].value_counts()"
      ]
    },
    {
      "cell_type": "code",
      "execution_count": 4,
      "metadata": {
        "colab": {
          "base_uri": "https://localhost:8080/",
          "height": 303
        },
        "id": "LprQu4JKXg5v",
        "outputId": "3d467787-7747-471b-9bc0-7151943dbef5"
      },
      "outputs": [
        {
          "data": {
            "text/plain": [
              "Medical Condition\n",
              "Arthritis       9308\n",
              "Diabetes        9304\n",
              "Hypertension    9245\n",
              "Obesity         9231\n",
              "Cancer          9227\n",
              "Asthma          9185\n",
              "Name: count, dtype: int64"
            ]
          },
          "execution_count": 4,
          "metadata": {},
          "output_type": "execute_result"
        }
      ],
      "source": [
        "df['Medical Condition'].value_counts()"
      ]
    },
    {
      "cell_type": "code",
      "execution_count": 5,
      "metadata": {
        "colab": {
          "base_uri": "https://localhost:8080/",
          "height": 366
        },
        "id": "PklqIg_QX1LK",
        "outputId": "928ad232-a538-44dd-8568-36c3de23886b"
      },
      "outputs": [
        {
          "data": {
            "text/plain": [
              "Blood Type\n",
              "A-     6969\n",
              "A+     6956\n",
              "AB+    6947\n",
              "AB-    6945\n",
              "B+     6945\n",
              "B-     6944\n",
              "O+     6917\n",
              "O-     6877\n",
              "Name: count, dtype: int64"
            ]
          },
          "execution_count": 5,
          "metadata": {},
          "output_type": "execute_result"
        }
      ],
      "source": [
        "df['Blood Type'].value_counts()"
      ]
    },
    {
      "cell_type": "code",
      "execution_count": 6,
      "metadata": {
        "colab": {
          "base_uri": "https://localhost:8080/",
          "height": 272
        },
        "id": "QGBA7xBnX8zA",
        "outputId": "4bfd0a84-e68a-4553-d918-2d684dde6dc9"
      },
      "outputs": [
        {
          "data": {
            "text/plain": [
              "Medication\n",
              "Lipitor        11140\n",
              "Ibuprofen      11127\n",
              "Aspirin        11094\n",
              "Paracetamol    11071\n",
              "Penicillin     11068\n",
              "Name: count, dtype: int64"
            ]
          },
          "execution_count": 6,
          "metadata": {},
          "output_type": "execute_result"
        }
      ],
      "source": [
        "df['Medication'].value_counts()"
      ]
    },
    {
      "cell_type": "code",
      "execution_count": 7,
      "metadata": {
        "colab": {
          "base_uri": "https://localhost:8080/",
          "height": 178
        },
        "id": "kZV7YperYB4s",
        "outputId": "c0a79c87-9f71-4fd0-dbb7-542b946f4490"
      },
      "outputs": [
        {
          "data": {
            "text/plain": [
              "Gender\n",
              "Male      27774\n",
              "Female    27726\n",
              "Name: count, dtype: int64"
            ]
          },
          "execution_count": 7,
          "metadata": {},
          "output_type": "execute_result"
        }
      ],
      "source": [
        "df['Gender'].value_counts()"
      ]
    },
    {
      "cell_type": "code",
      "execution_count": 8,
      "metadata": {
        "colab": {
          "base_uri": "https://localhost:8080/",
          "height": 272
        },
        "id": "inBn2HEPYKBk",
        "outputId": "6fd328f2-e84d-47db-df61-3468983ce528"
      },
      "outputs": [
        {
          "data": {
            "text/plain": [
              "Age                  0\n",
              "Gender               0\n",
              "Blood Type           0\n",
              "Medical Condition    0\n",
              "Test Results         0\n",
              "Medication           0\n",
              "dtype: int64"
            ]
          },
          "execution_count": 8,
          "metadata": {},
          "output_type": "execute_result"
        }
      ],
      "source": [
        "df.isnull().sum()"
      ]
    },
    {
      "cell_type": "code",
      "execution_count": 9,
      "metadata": {
        "id": "5EDh_scLZF_N"
      },
      "outputs": [],
      "source": [
        "from sklearn.preprocessing import LabelEncoder\n",
        "\n",
        "# Encode categorical features\n",
        "label_encoders = {}\n",
        "for column in ['Gender', 'Blood Type', 'Medical Condition', 'Test Results']:\n",
        "    le = LabelEncoder()\n",
        "    df[column] = le.fit_transform(df[column])\n",
        "    label_encoders[column] = le\n",
        "\n",
        "# Encode the target variable\n",
        "target_encoder = LabelEncoder()\n",
        "df['Medication'] = target_encoder.fit_transform(df['Medication'])"
      ]
    },
    {
      "cell_type": "code",
      "execution_count": 10,
      "metadata": {
        "id": "NRwGc4aQZMP0"
      },
      "outputs": [],
      "source": [
        "from sklearn.model_selection import train_test_split\n",
        "\n",
        "# Define features and target\n",
        "X = df[['Age', 'Gender', 'Blood Type', 'Medical Condition', 'Test Results']]\n",
        "y = df['Medication']\n",
        "\n",
        "# Split the data\n",
        "X_train, X_test, y_train, y_test = train_test_split(X, y, test_size=0.2, random_state=42)"
      ]
    },
    {
      "cell_type": "code",
      "execution_count": 11,
      "metadata": {
        "colab": {
          "base_uri": "https://localhost:8080/"
        },
        "id": "rpcJAbA_ZeN-",
        "outputId": "01fcf1b0-5b45-4dbb-ee95-57e9361e2f91"
      },
      "outputs": [
        {
          "data": {
            "text/plain": [
              "(44400, 11100, 44400, 11100)"
            ]
          },
          "execution_count": 11,
          "metadata": {},
          "output_type": "execute_result"
        }
      ],
      "source": [
        "len(X_train), len(X_test), len(y_train), len(y_test)"
      ]
    },
    {
      "cell_type": "markdown",
      "metadata": {
        "id": "zWz1-JCKnudh"
      },
      "source": [
        "### Model Training"
      ]
    },
    {
      "cell_type": "code",
      "execution_count": 12,
      "metadata": {
        "colab": {
          "base_uri": "https://localhost:8080/"
        },
        "id": "aOoTscBpZYVF",
        "outputId": "b4b4b35d-1e42-4457-ddbb-2ea03f0183c8"
      },
      "outputs": [
        {
          "name": "stdout",
          "output_type": "stream",
          "text": [
            "Accuracy: 0.2036036036036036\n",
            "              precision    recall  f1-score   support\n",
            "\n",
            "     Aspirin       0.20      0.20      0.20      2211\n",
            "   Ibuprofen       0.21      0.20      0.21      2271\n",
            "     Lipitor       0.21      0.21      0.21      2224\n",
            " Paracetamol       0.21      0.21      0.21      2207\n",
            "  Penicillin       0.19      0.19      0.19      2187\n",
            "\n",
            "    accuracy                           0.20     11100\n",
            "   macro avg       0.20      0.20      0.20     11100\n",
            "weighted avg       0.20      0.20      0.20     11100\n",
            "\n"
          ]
        }
      ],
      "source": [
        "from sklearn.ensemble import RandomForestClassifier\n",
        "from sklearn.metrics import classification_report, accuracy_score\n",
        "\n",
        "# Initialize and train the model\n",
        "model = RandomForestClassifier(n_estimators=100, random_state=42)\n",
        "model.fit(X_train, y_train)\n",
        "\n",
        "# Make predictions\n",
        "y_pred = model.predict(X_test)\n",
        "\n",
        "# Evaluate the model\n",
        "print(f\"Accuracy: {accuracy_score(y_test, y_pred)}\")\n",
        "print(classification_report(y_test, y_pred, target_names=target_encoder.classes_))\n"
      ]
    },
    {
      "cell_type": "code",
      "execution_count": 15,
      "metadata": {
        "id": "T_kRZhaQat3s"
      },
      "outputs": [],
      "source": [
        "from sklearn.preprocessing import StandardScaler\n",
        "from tensorflow.keras.utils import to_categorical\n",
        "\n",
        "# Normalize numerical features\n",
        "scaler = StandardScaler()\n",
        "X_scaled = scaler.fit_transform(X[['Age']])\n",
        "X_scaled = pd.DataFrame(X_scaled, columns=['Age'])\n",
        "\n",
        "# Concatenate scaled numerical features with encoded categorical features\n",
        "X_encoded = X.drop(columns=['Age'])\n",
        "X_final = pd.concat([X_scaled, X_encoded], axis=1)\n",
        "\n",
        "# One-hot encode the target variable\n",
        "y_final = to_categorical(y)\n"
      ]
    },
    {
      "cell_type": "code",
      "execution_count": 16,
      "metadata": {
        "colab": {
          "base_uri": "https://localhost:8080/"
        },
        "id": "6jp6Gcqth5cB",
        "outputId": "b34b1aba-d90b-4b5a-f0bd-a51a8a0c6015"
      },
      "outputs": [
        {
          "name": "stdout",
          "output_type": "stream",
          "text": [
            "Test Accuracy: 0.2018018018018018\n",
            "              precision    recall  f1-score   support\n",
            "\n",
            "     Aspirin       0.20      0.30      0.24      2211\n",
            "   Ibuprofen       0.21      0.22      0.22      2271\n",
            "     Lipitor       0.20      0.20      0.20      2224\n",
            " Paracetamol       0.20      0.16      0.18      2207\n",
            "  Penicillin       0.19      0.13      0.16      2187\n",
            "\n",
            "    accuracy                           0.20     11100\n",
            "   macro avg       0.20      0.20      0.20     11100\n",
            "weighted avg       0.20      0.20      0.20     11100\n",
            "\n"
          ]
        }
      ],
      "source": [
        "from sklearn.neighbors import KNeighborsClassifier\n",
        "from sklearn.metrics import classification_report, accuracy_score\n",
        "\n",
        "# Initialize the KNN model\n",
        "knn = KNeighborsClassifier(n_neighbors=5)  # You can adjust n_neighbors for better performance\n",
        "\n",
        "# Train the model\n",
        "knn.fit(X_train, y_train)\n",
        "\n",
        "# Predict on the test set\n",
        "y_pred = knn.predict(X_test)\n",
        "\n",
        "# Evaluate the model\n",
        "accuracy = accuracy_score(y_test, y_pred)\n",
        "print(f\"Test Accuracy: {accuracy}\")\n",
        "print(classification_report(y_test, y_pred, target_names=target_encoder.classes_))\n"
      ]
    },
    {
      "cell_type": "markdown",
      "metadata": {
        "id": "gFUsQMWP87EE"
      },
      "source": [
        "### FINAL"
      ]
    },
    {
      "cell_type": "code",
      "execution_count": 17,
      "metadata": {
        "id": "dMaqw6Ao7iJC"
      },
      "outputs": [],
      "source": [
        "\n",
        "import pandas as pd\n",
        "from sklearn.preprocessing import LabelEncoder, StandardScaler\n",
        "from sklearn.neighbors import KNeighborsClassifier\n",
        "from sklearn.model_selection import train_test_split\n",
        "from sklearn.metrics import accuracy_score, classification_report\n",
        "import joblib\n",
        "\n",
        "# Load the dataset\n",
        "data = pd.read_csv('madincine_classification.csv')\n",
        "\n",
        "# If 'Medication' column is numeric, manually map them to their names\n",
        "medication_mapping = {\n",
        "    0: 'Aspirin',\n",
        "    1: 'Ibuprofen',\n",
        "    2: 'Lipitor',\n",
        "    3: 'Paracetamol',\n",
        "    4: 'Penicillin'\n",
        "}\n",
        "\n",
        "# Encode categorical features\n",
        "label_encoders = {}\n",
        "for column in ['Gender', 'Blood Type', 'Medical Condition', 'Test Results']:\n",
        "    le = LabelEncoder()\n",
        "    data[column] = le.fit_transform(data[column])\n",
        "    label_encoders[column] = le\n",
        "\n",
        "# Encode the target variable 'Medication'\n",
        "medication_encoder = LabelEncoder()\n",
        "data['Medication'] = medication_encoder.fit_transform(data['Medication'])\n",
        "\n",
        "# Define features and target\n",
        "X = data[['Age', 'Gender', 'Blood Type', 'Medical Condition', 'Test Results']]\n",
        "y = data['Medication']\n",
        "\n",
        "# Split the dataset into training and testing sets\n",
        "X_train, X_test, y_train, y_test = train_test_split(X, y, test_size=0.2, random_state=42)\n",
        "\n",
        "# Normalize ONLY the 'Age' column\n",
        "age_scaler = StandardScaler()\n",
        "X_train['Age'] = age_scaler.fit_transform(X_train[['Age']])\n",
        "X_test['Age'] = age_scaler.transform(X_test[['Age']])"
      ]
    },
    {
      "cell_type": "code",
      "execution_count": 18,
      "metadata": {
        "colab": {
          "base_uri": "https://localhost:8080/"
        },
        "id": "ux4L1tsX9CS2",
        "outputId": "52e4b74c-22ec-4934-f80d-f5e37b893326"
      },
      "outputs": [
        {
          "name": "stdout",
          "output_type": "stream",
          "text": [
            "Test Accuracy: 0.20270270270270271\n",
            "Classification Report:\n",
            "              precision    recall  f1-score   support\n",
            "\n",
            "     Aspirin       0.20      0.29      0.23      2211\n",
            "   Ibuprofen       0.22      0.23      0.22      2271\n",
            "     Lipitor       0.22      0.22      0.22      2224\n",
            " Paracetamol       0.19      0.15      0.17      2207\n",
            "  Penicillin       0.19      0.13      0.15      2187\n",
            "\n",
            "    accuracy                           0.20     11100\n",
            "   macro avg       0.20      0.20      0.20     11100\n",
            "weighted avg       0.20      0.20      0.20     11100\n",
            "\n"
          ]
        }
      ],
      "source": [
        "# Initialize and train the KNN model\n",
        "knn = KNeighborsClassifier(n_neighbors=5)\n",
        "knn.fit(X_train, y_train)\n",
        "\n",
        "# Evaluate the model on the test set\n",
        "y_pred = knn.predict(X_test)\n",
        "accuracy = accuracy_score(y_test, y_pred)\n",
        "print(f\"Test Accuracy: {accuracy}\")\n",
        "\n",
        "# Print the classification report\n",
        "print(\"Classification Report:\")\n",
        "print(classification_report(y_test, y_pred, target_names=medication_encoder.classes_))\n"
      ]
    },
    {
      "cell_type": "markdown",
      "metadata": {
        "id": "6TbYU2UKn0DJ"
      },
      "source": [
        "### Testing"
      ]
    },
    {
      "cell_type": "code",
      "execution_count": 19,
      "metadata": {
        "colab": {
          "base_uri": "https://localhost:8080/"
        },
        "id": "ubmJkLPj9ELT",
        "outputId": "aff25ba4-1459-47a1-e813-257a0faad04a"
      },
      "outputs": [
        {
          "name": "stdout",
          "output_type": "stream",
          "text": [
            "Predicted Medication: Ibuprofen\n"
          ]
        }
      ],
      "source": [
        "# Example new data for prediction\n",
        "new_data = pd.DataFrame({\n",
        "    'Age': [62],\n",
        "    'Gender': ['Male'],\n",
        "    'Blood Type': ['A+'],\n",
        "    'Medical Condition': ['Obesity'],\n",
        "    'Test Results': ['Normal']\n",
        "})\n",
        "\n",
        "# Encode the new data using the same label encoders\n",
        "for column in ['Gender', 'Blood Type', 'Medical Condition', 'Test Results']:\n",
        "    new_data[column] = label_encoders[column].transform(new_data[column])\n",
        "\n",
        "# Normalize the 'Age' column in the new data\n",
        "new_data['Age'] = age_scaler.transform(new_data[['Age']])\n",
        "\n",
        "# Make predictions\n",
        "predictions = knn.predict(new_data)\n",
        "\n",
        "# Decode the predictions back to the original medication names\n",
        "predicted_medications = medication_encoder.inverse_transform(predictions)\n",
        "\n",
        "print(f\"Predicted Medication: {predicted_medications[0]}\")\n"
      ]
    },
    {
      "cell_type": "markdown",
      "metadata": {
        "id": "qyMS8mQnn2Dx"
      },
      "source": [
        "### Saving"
      ]
    },
    {
      "cell_type": "code",
      "execution_count": 23,
      "metadata": {
        "colab": {
          "base_uri": "https://localhost:8080/"
        },
        "id": "WOitiTRa9Gxa",
        "outputId": "61bbdb60-b67f-4719-e0be-bf78b88df92b"
      },
      "outputs": [
        {
          "name": "stdout",
          "output_type": "stream",
          "text": [
            "✅ Model and encoders saved successfully at: C:\\Users\\mohda\\Documents\\AI Health Assistant\\Notebook\\Madicine_classification\n"
          ]
        }
      ],
      "source": [
        "\n",
        "import os\n",
        "import joblib\n",
        "output_folder = r'C:\\Users\\mohda\\Documents\\AI Health Assistant\\Notebook\\Madicine_classification'\n",
        "\n",
        "# Create the folder if it doesn't exist\n",
        "os.makedirs(output_folder, exist_ok=True)\n",
        "\n",
        "joblib.dump(knn, os.path.join(output_folder, 'knn_model.pkl'))\n",
        "joblib.dump(label_encoders, os.path.join(output_folder, 'label_encoders.pkl'))\n",
        "joblib.dump(age_scaler, os.path.join(output_folder, 'age_scaler.pkl'))\n",
        "joblib.dump(medication_encoder, os.path.join(output_folder, 'medication_encoder.pkl'))\n",
        "\n",
        "print(\"✅ Model and encoders saved successfully at:\", output_folder)"
      ]
    },
    {
      "cell_type": "code",
      "execution_count": null,
      "metadata": {},
      "outputs": [],
      "source": []
    }
  ],
  "metadata": {
    "colab": {
      "collapsed_sections": [
        "nMPIMsBXnowt",
        "zWz1-JCKnudh",
        "gFUsQMWP87EE",
        "6TbYU2UKn0DJ",
        "qyMS8mQnn2Dx"
      ],
      "provenance": []
    },
    "kernelspec": {
      "display_name": "Python 3",
      "name": "python3"
    },
    "language_info": {
      "codemirror_mode": {
        "name": "ipython",
        "version": 3
      },
      "file_extension": ".py",
      "mimetype": "text/x-python",
      "name": "python",
      "nbconvert_exporter": "python",
      "pygments_lexer": "ipython3",
      "version": "3.11.5"
    }
  },
  "nbformat": 4,
  "nbformat_minor": 0
}
